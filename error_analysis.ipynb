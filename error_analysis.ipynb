{
 "cells": [
  {
   "cell_type": "markdown",
   "metadata": {},
   "source": [
    "# A Newbie's Attempt to do Error Analysis 🤓\n",
    "\n",
    "In this notebook, we'll be attempting to gain insights on the performance of a trained LSTM model by carrying out the following analysis:\n",
    "\n",
    "* Evaluate error metrics on the train and test data.\n",
    "* Plot confusion matrix on the test data.\n",
    "* Analyse errors by inspecting samples that the model misclassfied."
   ]
  },
  {
   "cell_type": "markdown",
   "metadata": {},
   "source": [
    "## Import"
   ]
  },
  {
   "cell_type": "code",
   "execution_count": 1,
   "metadata": {},
   "outputs": [],
   "source": [
    "import torch\n",
    "import pandas as pd\n",
    "\n",
    "from sklearn.model_selection import train_test_split\n",
    "from sklearn.metrics import classification_report, ConfusionMatrixDisplay\n",
    "from transformers import AutoTokenizer\n",
    "from src.model.lstm import LSTMClassifier\n",
    "from src.agnews_dataset import preprocess_data, AGNewsDataset"
   ]
  },
  {
   "cell_type": "markdown",
   "metadata": {},
   "source": [
    "## Load Model"
   ]
  },
  {
   "cell_type": "markdown",
   "metadata": {},
   "source": [
    "The model I will be analysing is a bidirectional LSTM model trained on the [AGNews Classification dataset](https://www.kaggle.com/datasets/amananandrai/ag-news-classification-dataset)."
   ]
  },
  {
   "cell_type": "code",
   "execution_count": 12,
   "metadata": {},
   "outputs": [
    {
     "data": {
      "text/plain": [
       "LSTMClassifier(\n",
       "  (embedding): Embedding(30522, 256)\n",
       "  (lstm): LSTM(256, 256, batch_first=True, bidirectional=True)\n",
       "  (dropout): Dropout(p=0.5, inplace=False)\n",
       "  (fc): Linear(in_features=256, out_features=4, bias=True)\n",
       ")"
      ]
     },
     "execution_count": 12,
     "metadata": {},
     "output_type": "execute_result"
    }
   ],
   "source": [
    "device = \"cuda\" if torch.cuda.is_available() else \"cpu\"\n",
    "ckpt_path = \"model/lstm_2023-12-02_18-07-51.pt\"\n",
    "model_ckpt = torch.load(ckpt_path, map_location=device)\n",
    "tokenizer = AutoTokenizer.from_pretrained(\"bert-base-uncased\")\n",
    "model = LSTMClassifier(\n",
    "    vocab_size=len(tokenizer),\n",
    "    embedding_dim=model_ckpt[\"model_args\"][\"embedding_dim\"],\n",
    "    hidden_dim=model_ckpt[\"model_args\"][\"hidden_dim\"],\n",
    "    num_layers=model_ckpt[\"model_args\"][\"num_layers\"],\n",
    "    output_dim=model_ckpt[\"model_args\"][\"output_dim\"],\n",
    "    dropout=model_ckpt[\"model_args\"][\"dropout\"],\n",
    ").to(device)\n",
    "model.load_state_dict(model_ckpt[\"state_dict\"])\n",
    "\n",
    "model"
   ]
  },
  {
   "cell_type": "markdown",
   "metadata": {},
   "source": [
    "## Load Dataset"
   ]
  },
  {
   "cell_type": "code",
   "execution_count": 4,
   "metadata": {},
   "outputs": [
    {
     "name": "stdout",
     "output_type": "stream",
     "text": [
      "96000\n"
     ]
    }
   ],
   "source": [
    "train_data_path = \"data/train.csv\"\n",
    "\n",
    "# Split data into train and validation set, and discard the validation set for now, we will be using a standalone test set instead.\n",
    "train_text, train_label = preprocess_data(data_path=train_data_path)\n",
    "train_text, _, train_label, _ = train_test_split(\n",
    "    train_text,\n",
    "    train_label,\n",
    "    test_size=0.2,\n",
    "    random_state=model_ckpt[\"model_args\"][\"seed\"],\n",
    ")\n",
    "\n",
    "train_encoding = tokenizer(\n",
    "    train_text,\n",
    "    truncation=True,\n",
    "    padding=True,\n",
    "    max_length=model_ckpt[\"model_args\"][\"max_length\"],\n",
    ")\n",
    "train_dataset = AGNewsDataset(train_encoding, train_label)\n",
    "train_dataloader = torch.utils.data.DataLoader(train_dataset, batch_size=32)\n",
    "\n",
    "print(len(train_dataset))"
   ]
  },
  {
   "cell_type": "code",
   "execution_count": 5,
   "metadata": {},
   "outputs": [
    {
     "name": "stdout",
     "output_type": "stream",
     "text": [
      "7600\n"
     ]
    }
   ],
   "source": [
    "test_data_path = \"data/test.csv\"\n",
    "test_text, test_label = preprocess_data(data_path=test_data_path)\n",
    "test_encoding = tokenizer(\n",
    "    test_text,\n",
    "    truncation=True,\n",
    "    padding=True,\n",
    "    max_length=model_ckpt[\"model_args\"][\"max_length\"],\n",
    ")\n",
    "test_dataset = AGNewsDataset(test_encoding, test_label)\n",
    "test_dataloader = torch.utils.data.DataLoader(test_dataset, batch_size=32)\n",
    "\n",
    "print(len(test_dataset))"
   ]
  },
  {
   "cell_type": "markdown",
   "metadata": {},
   "source": [
    "## Inference"
   ]
  },
  {
   "cell_type": "code",
   "execution_count": 6,
   "metadata": {},
   "outputs": [],
   "source": [
    "model.eval()\n",
    "\n",
    "train_preds = []\n",
    "for batch in train_dataloader:\n",
    "    batch = {k: v.to(device) for k, v in batch.items()}\n",
    "    with torch.no_grad():\n",
    "        output = model(batch[\"input_ids\"])\n",
    "        pred = torch.argmax(output, dim=1)\n",
    "        train_preds.extend(pred.cpu().numpy())\n",
    "\n",
    "test_preds = []\n",
    "misclass_df = pd.DataFrame(columns=[\"text\", \"label\", \"pred\"])\n",
    "for batch in test_dataloader:\n",
    "    batch = {k: v.to(device) for k, v in batch.items()}\n",
    "    with torch.no_grad():\n",
    "        output = model(batch[\"input_ids\"])\n",
    "        pred = torch.argmax(output, dim=1)\n",
    "        test_preds.extend(pred.cpu().numpy())\n",
    "\n",
    "        # Misclassified samples\n",
    "        misclass_idx = torch.where(pred != batch[\"labels\"])[0]\n",
    "        misclass_text = [\n",
    "            tokenizer.convert_tokens_to_string(\n",
    "                tokenizer.convert_ids_to_tokens(  # type: ignore\n",
    "                    batch[\"input_ids\"][idx].cpu().numpy(), skip_special_tokens=True\n",
    "                )\n",
    "            )\n",
    "            for idx in misclass_idx\n",
    "        ]\n",
    "        misclass_label = [batch[\"labels\"][idx].item() for idx in misclass_idx]\n",
    "        misclass_df = pd.concat(\n",
    "            [\n",
    "                misclass_df,\n",
    "                pd.DataFrame(\n",
    "                    {\n",
    "                        \"text\": misclass_text,\n",
    "                        \"label\": misclass_label,\n",
    "                        \"pred\": pred[misclass_idx].cpu().numpy(),\n",
    "                    }\n",
    "                ),\n",
    "            ]\n",
    "        )"
   ]
  },
  {
   "cell_type": "markdown",
   "metadata": {},
   "source": [
    "## Error Metrics"
   ]
  },
  {
   "cell_type": "code",
   "execution_count": 7,
   "metadata": {},
   "outputs": [
    {
     "name": "stdout",
     "output_type": "stream",
     "text": [
      "              precision    recall  f1-score   support\n",
      "\n",
      "       World       0.97      0.91      0.94     23967\n",
      "      Sports       0.97      0.99      0.98     23968\n",
      "    Business       0.92      0.92      0.92     24046\n",
      "    Sci/Tech       0.91      0.94      0.92     24019\n",
      "\n",
      "    accuracy                           0.94     96000\n",
      "   macro avg       0.94      0.94      0.94     96000\n",
      "weighted avg       0.94      0.94      0.94     96000\n",
      "\n"
     ]
    }
   ],
   "source": [
    "target_names = [\"World\", \"Sports\", \"Business\", \"Sci/Tech\"]\n",
    "print(classification_report(train_label, train_preds, target_names=target_names))"
   ]
  },
  {
   "cell_type": "code",
   "execution_count": 8,
   "metadata": {},
   "outputs": [
    {
     "name": "stdout",
     "output_type": "stream",
     "text": [
      "              precision    recall  f1-score   support\n",
      "\n",
      "       World       0.94      0.88      0.91      1900\n",
      "      Sports       0.95      0.98      0.96      1900\n",
      "    Business       0.88      0.88      0.88      1900\n",
      "    Sci/Tech       0.87      0.90      0.88      1900\n",
      "\n",
      "    accuracy                           0.91      7600\n",
      "   macro avg       0.91      0.91      0.91      7600\n",
      "weighted avg       0.91      0.91      0.91      7600\n",
      "\n"
     ]
    }
   ],
   "source": [
    "print(classification_report(test_label, test_preds, target_names=target_names))"
   ]
  },
  {
   "cell_type": "markdown",
   "metadata": {},
   "source": [
    "From the classificiation reports above we can observe, that the model performs best on the Sports genre, second on the World genre, while having relative lower performance on the Business and Sci/Tech genre.\n",
    "\n",
    "Since the data is fairly balanced, this variance in performance could be attribute to the inherent characteristics of each genre.\n",
    "\n",
    "For example, the Sports article usually possess unique and easily identifiable features, while the Business and Sci/Tech article often shares similar themes and terminologies.\n",
    "\n",
    "Such similarity might leads to a higher likelihood of misclassification by the model."
   ]
  },
  {
   "cell_type": "markdown",
   "metadata": {},
   "source": [
    "## Confusion Matrix"
   ]
  },
  {
   "cell_type": "markdown",
   "metadata": {},
   "source": [
    "To gain deeper insight into the model's misclassifications across each class, we will plot a confusion matrix on the test data.\n",
    "\n",
    "This visual representation will help us better understand where the model tends to confuse one category for another"
   ]
  },
  {
   "cell_type": "code",
   "execution_count": 9,
   "metadata": {},
   "outputs": [
    {
     "data": {
      "text/plain": [
       "<sklearn.metrics._plot.confusion_matrix.ConfusionMatrixDisplay at 0x7f9b28dabeb0>"
      ]
     },
     "execution_count": 9,
     "metadata": {},
     "output_type": "execute_result"
    },
    {
     "data": {
      "image/png": "[encoded data removed]",
      "text/plain": [
       "<Figure size 640x480 with 2 Axes>"
      ]
     },
     "metadata": {},
     "output_type": "display_data"
    }
   ],
   "source": [
    "ConfusionMatrixDisplay.from_predictions(\n",
    "    test_preds, test_label, display_labels=target_names, cmap=\"Blues\"\n",
    ")"
   ]
  },
  {
   "cell_type": "markdown",
   "metadata": {},
   "source": [
    "The confusion matrix clearly indicates that the model is significantly more prone to misclassification when distinguishing between Business and Sci/Tech articles, with a likelihood more than three times higher compared to other categories. "
   ]
  },
  {
   "cell_type": "markdown",
   "metadata": {},
   "source": [
    "## Sample Inspection"
   ]
  },
  {
   "cell_type": "markdown",
   "metadata": {},
   "source": [
    "Let's delve a little deeper into these two genres. More specificlly, we'll randomly sample 5 Business articles that the model misclassified as Sci/Tech article, and 5 vice versa.\n",
    "\n",
    "Hopefully we can identify similar theme and terminologies amongst these articles, to gain insights on why the model misclassified them."
   ]
  },
  {
   "cell_type": "code",
   "execution_count": 10,
   "metadata": {},
   "outputs": [
    {
     "name": "stdout",
     "output_type": "stream",
     "text": [
      "microsoft vs sendo : it # 39 ; s overthe legal battle between uk phone manufacturer sendo and microsoft has been settled, the companies announced on monday morning. sendo had been suing microsoft for the alleged theft of trade secrets, fraud\n",
      "microsoft readies next business im servera little over a year after introducing the first version of office live communications server, microsoft says it plans to release the next version of its enterprise instant messaging software, in december.\n",
      "i. b. m. sought a china partnership, not just a saleinside i. b. m., the issue of whether to stay in the personal computer business has been debated for a decade. the issue was put to rest last week.\n",
      "halo 2 scores record sales of \\ $ 125 million in first 24 hourshalo 2 broke entertainment retail records in its first 24 hours. microsoft game studios said that the video game sold through 2. 4 million stores in the us and canada raking in \\ $ 125 million in sales.\n",
      "storms seem to cure floridians of hurricane amnesiathe state # 39 ; s east coast hadn # 39 ; t been hit by a hurricane since 1999. that, and the fact that florida hasn # 39 ; t had its historic share of such storms in recent decades, has led to some complacency about their effects.\n"
     ]
    }
   ],
   "source": [
    "# Sample 5 Business article misclassified as Sci/Tech\n",
    "for text in misclass_df[\n",
    "    (misclass_df[\"label\"] == 2) & (misclass_df[\"pred\"] == 3)\n",
    "].sample(5, random_state=0)[\"text\"]:\n",
    "    print(text)"
   ]
  },
  {
   "cell_type": "code",
   "execution_count": 11,
   "metadata": {},
   "outputs": [
    {
     "name": "stdout",
     "output_type": "stream",
     "text": [
      "a # 39 ; plan b # 39 ; for peoplesoft customerscom september 20, 2004, 6 : 13 pm pt. this fourth priority # 39 ; s main focus has been improving or obtaining crm and erp software for the past year and a half.\n",
      "fujitsu siemens profit grows 60 percentfujitsu siemens computers ( holding ) bv, europe # 39 ; s largest remaining computer manufacturer, posted a 60 percent leap in profit for the first half of its fiscal year on higher sales of laptops and servers to business customers, the company said wednesday.\n",
      "our mobile margins will fall : telstratelstra chief financial officer john stanhope has admitted telstra # 39 ; s margins in its \\ $ 4. 5 billion a year mobile phone business will shrink this year in the face of increased price competition and the growing cost of acquiring new customers.\n",
      "august chip sales growth slows on high inventory san francisco ( reuters ) - global semiconductor sales growth slowed to 1 percent in august as electronics makers reacted to growing inventories in asia by limiting orders of chips, an industry trade group said on thursday.\n",
      "red hat replaces cfocharles peters jr. is taking over as the company deals with the aftereffects of restating its earnings for the past three fiscal years.\n"
     ]
    }
   ],
   "source": [
    "# Sample 5 Sci/Tech article misclassified as Business\n",
    "for text in misclass_df[\n",
    "    (misclass_df[\"label\"] == 3) & (misclass_df[\"pred\"] == 2)\n",
    "].sample(5, random_state=0)[\"text\"]:\n",
    "    print(text)"
   ]
  },
  {
   "cell_type": "markdown",
   "metadata": {},
   "source": [
    "The sampled texts predominantly feature technology-themed articles, as evidenced by the frequent presence of keywords such as 'Microsoft', 'IBM', 'Red Hat', 'chip', 'software', and 'computer'.\n",
    "\n",
    "These terms are closely associated with the technology sector, either representing corporate names in the tech industry or commonly used technological nouns.\n",
    "\n",
    "This thematic consistency suggests a strong tech focus in the selected samples."
   ]
  },
  {
   "cell_type": "markdown",
   "metadata": {},
   "source": [
    "## Conclusion\n",
    "\n",
    "In conclusion, the model demonstrates varying performance in classifying differnt article genres, excelling in sports and perform relative worse with closely related business and tech topics.\n",
    "\n",
    "The confusion matrix further highlights this issue, especially the model's tendency to confuse business and tech articles.\n",
    "\n",
    "This is corroborated by the sampled texts, which are heavily tech-themed, indicating a need for model optimization in differentiating similar genres."
   ]
  }
 ],
 "metadata": {
  "kernelspec": {
   "display_name": "agnews",
   "language": "python",
   "name": "python3"
  },
  "language_info": {
   "codemirror_mode": {
    "name": "ipython",
    "version": 3
   },
   "file_extension": ".py",
   "mimetype": "text/x-python",
   "name": "python",
   "nbconvert_exporter": "python",
   "pygments_lexer": "ipython3",
   "version": "3.10.13"
  }
 },
 "nbformat": 4,
 "nbformat_minor": 2
}
